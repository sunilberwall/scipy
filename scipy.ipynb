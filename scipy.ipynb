{
 "cells": [
  {
   "cell_type": "code",
   "execution_count": 1,
   "metadata": {},
   "outputs": [],
   "source": [
    "# basic polynomial\n",
    "from numpy import poly1d"
   ]
  },
  {
   "cell_type": "code",
   "execution_count": 2,
   "metadata": {},
   "outputs": [
    {
     "name": "stdout",
     "output_type": "stream",
     "text": [
      "   2\n",
      "2 x + 3 x + 8\n"
     ]
    }
   ],
   "source": [
    "p=poly1d([2,3,8])\n",
    "print(p)"
   ]
  },
  {
   "cell_type": "code",
   "execution_count": 3,
   "metadata": {},
   "outputs": [
    {
     "name": "stdout",
     "output_type": "stream",
     "text": [
      "   4      3      2\n",
      "4 x + 12 x + 41 x + 48 x + 64\n"
     ]
    }
   ],
   "source": [
    "# find out square of polynomial\n",
    "print(p*p)"
   ]
  },
  {
   "cell_type": "code",
   "execution_count": 4,
   "metadata": {},
   "outputs": [
    {
     "name": "stdout",
     "output_type": "stream",
     "text": [
      "[-0.75+1.85404962j -0.75-1.85404962j]\n"
     ]
    }
   ],
   "source": [
    "# find out root of equation\n",
    "print(p.r)"
   ]
  },
  {
   "cell_type": "code",
   "execution_count": 5,
   "metadata": {},
   "outputs": [
    {
     "name": "stdout",
     "output_type": "stream",
     "text": [
      "   2\n",
      "2 y + 3 y + 8\n"
     ]
    }
   ],
   "source": [
    "# change variable of equation\n",
    "q=poly1d([2,3,8],variable=\"y\")\n",
    "print(q)"
   ]
  },
  {
   "cell_type": "code",
   "execution_count": 6,
   "metadata": {},
   "outputs": [
    {
     "name": "stdout",
     "output_type": "stream",
     "text": [
      "        3       2\n",
      "0.6667 x + 1.5 x + 8 x + 6\n"
     ]
    }
   ],
   "source": [
    "# integration of polynomial\n",
    "print(p.integ(k=6))    \n",
    "# here k is indefinite integration constant\n"
   ]
  },
  {
   "cell_type": "code",
   "execution_count": 7,
   "metadata": {},
   "outputs": [
    {
     "name": "stdout",
     "output_type": "stream",
     "text": [
      " \n",
      "4 x + 3\n"
     ]
    }
   ],
   "source": [
    "# differentiation of a polynomial\n",
    "print(p.deriv())"
   ]
  },
  {
   "cell_type": "code",
   "execution_count": 8,
   "metadata": {},
   "outputs": [],
   "source": [
    "import numpy as np"
   ]
  },
  {
   "cell_type": "code",
   "execution_count": 9,
   "metadata": {},
   "outputs": [],
   "source": [
    "# special function \n",
    "import scipy.special as ss"
   ]
  },
  {
   "cell_type": "code",
   "execution_count": 10,
   "metadata": {},
   "outputs": [
    {
     "name": "stdout",
     "output_type": "stream",
     "text": [
      "[0.         1.         1.25992105 1.44224957 1.58740105 1.70997595\n",
      " 1.81712059 1.91293118 2.         2.08008382]\n"
     ]
    }
   ],
   "source": [
    "# cube root of any number\n",
    "a=np.arange(10)\n",
    "print(ss.cbrt(a))"
   ]
  },
  {
   "cell_type": "code",
   "execution_count": 11,
   "metadata": {},
   "outputs": [
    {
     "name": "stdout",
     "output_type": "stream",
     "text": [
      "1000.0\n"
     ]
    }
   ],
   "source": [
    "# exponent of 10\n",
    "print(ss.exp10(3))"
   ]
  },
  {
   "cell_type": "code",
   "execution_count": 12,
   "metadata": {},
   "outputs": [
    {
     "name": "stdout",
     "output_type": "stream",
     "text": [
      "8.0\n"
     ]
    }
   ],
   "source": [
    "# exponent of 2\n",
    "print(ss.exp2(3))"
   ]
  },
  {
   "cell_type": "code",
   "execution_count": 13,
   "metadata": {},
   "outputs": [
    {
     "name": "stdout",
     "output_type": "stream",
     "text": [
      "0.5294747174133464\n"
     ]
    }
   ],
   "source": [
    "# degree to radian(d=digree,m=min. , s=second)\n",
    "d=30\n",
    "m=20\n",
    "s=12\n",
    "print(ss.radian(d,m,s))"
   ]
  },
  {
   "cell_type": "code",
   "execution_count": 14,
   "metadata": {},
   "outputs": [
    {
     "name": "stdout",
     "output_type": "stream",
     "text": [
      "0.49999999999999994\n",
      "0.8660254037844387\n",
      "0.5773502691896257\n"
     ]
    }
   ],
   "source": [
    "#  trigonometric fuction (in degree)\n",
    "print(ss.sindg(30))\n",
    "print(ss.cosdg(30))\n",
    "print(ss.tandg(30))"
   ]
  },
  {
   "cell_type": "code",
   "execution_count": 15,
   "metadata": {},
   "outputs": [
    {
     "name": "stdout",
     "output_type": "stream",
     "text": [
      "30.0\n"
     ]
    }
   ],
   "source": [
    "# permutation \n",
    "print(ss.perm(6,2)) #6p2"
   ]
  },
  {
   "cell_type": "code",
   "execution_count": 16,
   "metadata": {},
   "outputs": [
    {
     "name": "stdout",
     "output_type": "stream",
     "text": [
      "15.0\n"
     ]
    }
   ],
   "source": [
    "# combination\n",
    "print(ss.comb(6,2)) #6c2"
   ]
  },
  {
   "cell_type": "code",
   "execution_count": 17,
   "metadata": {},
   "outputs": [],
   "source": [
    "# integration\n",
    "import scipy.integrate as si"
   ]
  },
  {
   "cell_type": "code",
   "execution_count": 18,
   "metadata": {},
   "outputs": [
    {
     "name": "stdout",
     "output_type": "stream",
     "text": [
      "(2.3333333333333335, 2.590520390792032e-14)\n"
     ]
    }
   ],
   "source": [
    "# quad integration\n",
    "f=lambda x:x**2\n",
    "print(si.quad(f,1,2)) #f=function ,1=lower_limit,2=upper_limit"
   ]
  },
  {
   "cell_type": "code",
   "execution_count": 19,
   "metadata": {},
   "outputs": [
    {
     "name": "stdout",
     "output_type": "stream",
     "text": [
      "(0.08333333333333333, 5.491055316425742e-15)\n"
     ]
    }
   ],
   "source": [
    "# double integration \n",
    "print(si.dblquad(lambda x,y:x*y,0,1,lambda x:0,lambda y:1-2*y))#(fuc,lower_limit,upper_limit,fuc2,fuc3)\n"
   ]
  },
  {
   "cell_type": "code",
   "execution_count": 20,
   "metadata": {},
   "outputs": [
    {
     "name": "stdout",
     "output_type": "stream",
     "text": [
      "-2.0\n"
     ]
    }
   ],
   "source": [
    "# linear algebra\n",
    "from scipy import linalg\n",
    "a1=np.array([[1,2],[3,4]])\n",
    "print(linalg.det(a1)) #determinant of a matrix"
   ]
  },
  {
   "cell_type": "code",
   "execution_count": 21,
   "metadata": {},
   "outputs": [
    {
     "name": "stdout",
     "output_type": "stream",
     "text": [
      "[[0. 1.]\n",
      " [1. 0.]]\n",
      "[[1.         0.        ]\n",
      " [0.33333333 1.        ]]\n",
      "[[3.         4.        ]\n",
      " [0.         0.66666667]]\n"
     ]
    }
   ],
   "source": [
    "# permutation matrix(p),lower triangle(l),upper triangle(u)\n",
    "p,l,u=linalg.lu(a1)\n",
    "print(p)\n",
    "print(l)\n",
    "print(u)"
   ]
  },
  {
   "cell_type": "code",
   "execution_count": 22,
   "metadata": {},
   "outputs": [
    {
     "name": "stdout",
     "output_type": "stream",
     "text": [
      "[-0.37228132+0.j  5.37228132+0.j]\n",
      "[[-0.82456484 -0.41597356]\n",
      " [ 0.56576746 -0.90937671]]\n"
     ]
    }
   ],
   "source": [
    "# eigen value(eg),eigen vector(ew)\n",
    "ev,ew=linalg.eig(a1)\n",
    "print(ev)\n",
    "print(ew)"
   ]
  },
  {
   "cell_type": "code",
   "execution_count": 23,
   "metadata": {},
   "outputs": [
    {
     "name": "stdout",
     "output_type": "stream",
     "text": [
      "[[-0.33333333]\n",
      " [ 0.66666667]\n",
      " [ 0.        ]]\n"
     ]
    },
    {
     "name": "stderr",
     "output_type": "stream",
     "text": [
      "/home/sunil/anaconda3/lib/python3.7/site-packages/ipykernel_launcher.py:8: LinAlgWarning: Ill-conditioned matrix (rcond=1.54198e-18): result may not be accurate.\n",
      "  \n"
     ]
    }
   ],
   "source": [
    "# solve linear equation AX=B\n",
    "# A=[matrix] B=[matrix] x=[ x,y,z] as a column matrix\n",
    "A=np.array([[1,2,3],[4,5,6],[7,8,9]])\n",
    "B=np.array([[1],\n",
    "            [2],\n",
    "            [3]\n",
    "           ])\n",
    "print(linalg.solve(A,B))"
   ]
  },
  {
   "cell_type": "code",
   "execution_count": 24,
   "metadata": {},
   "outputs": [
    {
     "name": "stdout",
     "output_type": "stream",
     "text": [
      "[[-4.50359963e+15  9.00719925e+15 -4.50359963e+15]\n",
      " [ 9.00719925e+15 -1.80143985e+16  9.00719925e+15]\n",
      " [-4.50359963e+15  9.00719925e+15 -4.50359963e+15]]\n"
     ]
    }
   ],
   "source": [
    "# inverse of a matrix\n",
    "print(linalg.inv(A))"
   ]
  },
  {
   "cell_type": "code",
   "execution_count": 25,
   "metadata": {},
   "outputs": [
    {
     "name": "stdout",
     "output_type": "stream",
     "text": [
      "[[ 2.  0.  2.]\n",
      " [ 8.  0.  0.]\n",
      " [16.  0.  8.]]\n",
      "[[ 2.  0.  2.]\n",
      " [ 8.  0.  0.]\n",
      " [16.  0.  8.]]\n"
     ]
    }
   ],
   "source": [
    "# cross check\n",
    "# A*inv(A)=I\n",
    "\n",
    "I=A.dot(linalg.inv(A))\n",
    "print(np.around(I))\n",
    "print(I)"
   ]
  },
  {
   "cell_type": "code",
   "execution_count": 26,
   "metadata": {},
   "outputs": [
    {
     "data": {
      "image/png": "[encoded data removed]",
      "text/plain": [
       "<Figure size 432x288 with 1 Axes>"
      ]
     },
     "metadata": {
      "needs_background": "light"
     },
     "output_type": "display_data"
    }
   ],
   "source": [
    "# interpolation\n",
    "# Interpolation is the process of estimating unknown values that fall between known values\n",
    "from scipy.interpolate import interp1d\n",
    "x=np.arange(0,6,1)\n",
    "y=np.array([1,2,3,4,5,6])\n",
    "xp=np.linspace(0,5,100)\n",
    "import matplotlib.pyplot as plt\n",
    "plt.plot(x,y,\"bo\")\n",
    "y1=interp1d(x,y,kind=\"linear\")\n",
    "plt.plot(xp,y1(xp),\"r-\")\n",
    "y2=interp1d(x,y,kind=\"quadratic\")\n",
    "plt.plot(xp,y2(xp),\"g+\")\n",
    "plt.show()\n"
   ]
  },
  {
   "cell_type": "code",
   "execution_count": 27,
   "metadata": {},
   "outputs": [],
   "source": [
    "# statistics\n",
    "from scipy.stats import norm"
   ]
  },
  {
   "cell_type": "code",
   "execution_count": 28,
   "metadata": {},
   "outputs": [
    {
     "name": "stdout",
     "output_type": "stream",
     "text": [
      "0.03270067035337862\n",
      "0.9004558162195809\n"
     ]
    }
   ],
   "source": [
    "# rvs it is used for genrate a array which is must be gaussian dist.and mean ~=0 and std~=1\n",
    "x_norm=norm.rvs(size=100)\n",
    "print(np.mean(x_norm))\n",
    "print(np.std(x_norm))"
   ]
  },
  {
   "cell_type": "code",
   "execution_count": 29,
   "metadata": {},
   "outputs": [
    {
     "data": {
      "image/png": "[encoded data removed]",
      "text/plain": [
       "<Figure size 432x288 with 1 Axes>"
      ]
     },
     "metadata": {
      "needs_background": "light"
     },
     "output_type": "display_data"
    }
   ],
   "source": [
    "# cdf (continuous distribution function)\n",
    "x1=np.linspace(-5,5,1000)\n",
    "y1=norm.cdf(x1,0,1)\n",
    "plt.plot(x1,y1)\n",
    "plt.show()"
   ]
  },
  {
   "cell_type": "code",
   "execution_count": 30,
   "metadata": {},
   "outputs": [
    {
     "data": {
      "image/png": "[encoded data removed]",
      "text/plain": [
       "<Figure size 432x288 with 1 Axes>"
      ]
     },
     "metadata": {
      "needs_background": "light"
     },
     "output_type": "display_data"
    }
   ],
   "source": [
    "# pdf (probability density function)\n",
    "x2=np.linspace(-5,5,1000)\n",
    "y2=norm.pdf(x1,0,1)\n",
    "plt.plot(x2,y2)\n",
    "plt.show()\n"
   ]
  },
  {
   "cell_type": "code",
   "execution_count": 31,
   "metadata": {},
   "outputs": [],
   "source": [
    "# Uniform Distribution\n",
    "from scipy.stats import uniform"
   ]
  },
  {
   "cell_type": "code",
   "execution_count": 32,
   "metadata": {},
   "outputs": [
    {
     "data": {
      "image/png": "[encoded data removed]",
      "text/plain": [
       "<Figure size 432x288 with 1 Axes>"
      ]
     },
     "metadata": {
      "needs_background": "light"
     },
     "output_type": "display_data"
    }
   ],
   "source": [
    "z1=uniform.pdf(x2)\n",
    "plt.plot(x2,z1)\n",
    "plt.show()\n",
    "\n"
   ]
  },
  {
   "cell_type": "code",
   "execution_count": 33,
   "metadata": {},
   "outputs": [
    {
     "data": {
      "image/png": "[encoded data removed]",
      "text/plain": [
       "<Figure size 432x288 with 1 Axes>"
      ]
     },
     "metadata": {
      "needs_background": "light"
     },
     "output_type": "display_data"
    }
   ],
   "source": [
    "z1=uniform.cdf(x2)\n",
    "plt.plot(x2,z1)\n",
    "plt.show()"
   ]
  },
  {
   "cell_type": "code",
   "execution_count": null,
   "metadata": {},
   "outputs": [],
   "source": []
  }
 ],
 "metadata": {
  "kernelspec": {
   "display_name": "Python 3",
   "language": "python",
   "name": "python3"
  },
  "language_info": {
   "codemirror_mode": {
    "name": "ipython",
    "version": 3
   },
   "file_extension": ".py",
   "mimetype": "text/x-python",
   "name": "python",
   "nbconvert_exporter": "python",
   "pygments_lexer": "ipython3",
   "version": "3.7.6"
  }
 },
 "nbformat": 4,
 "nbformat_minor": 4
}
